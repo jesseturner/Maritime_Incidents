{
 "cells": [
  {
   "cell_type": "code",
   "execution_count": 1,
   "metadata": {},
   "outputs": [],
   "source": [
    "import pandas as pd"
   ]
  },
  {
   "cell_type": "code",
   "execution_count": 31,
   "metadata": {},
   "outputs": [],
   "source": [
    "column_names = [\n",
    "    \"activity_id\", \"case_id\", \"datetime\", \"fk_d_vessel\",\n",
    "    \"vessel_id\", \"vin\", \"vessel_name\", \"vessel_service\", \"vessel_class\",\n",
    "    \"vessel_type\", \"vessel_subtype\", \"flag_desc\", \"vessel_activity_role_desc\",\n",
    "    \"waterway_name\", \"event_type\", \"event_class\", \"event_subclass\",\n",
    "    \"damage_status\", \"latitude\", \"longitude\"\n",
    "]"
   ]
  },
  {
   "cell_type": "code",
   "execution_count": 32,
   "metadata": {},
   "outputs": [],
   "source": [
    "file_path = \"MISLE DATA/MisleVslEvents.txt\""
   ]
  },
  {
   "cell_type": "code",
   "execution_count": 33,
   "metadata": {},
   "outputs": [],
   "source": [
    "df = pd.read_csv(file_path, sep='\\t', header=None, names=column_names, encoding='latin-1')"
   ]
  },
  {
   "cell_type": "code",
   "execution_count": 34,
   "metadata": {},
   "outputs": [
    {
     "name": "stdout",
     "output_type": "stream",
     "text": [
      "activity_id                                        4587504\n",
      "case_id                                           635446.0\n",
      "datetime                       2013-05-09 11:31:00.0000000\n",
      "fk_d_vessel                                        9134962\n",
      "vessel_id                                         449507.0\n",
      "vin                                                1048710\n",
      "vessel_name                                 ROSS SALVAGGIO\n",
      "vessel_service                               Towing Vessel\n",
      "vessel_class                                 Towing Vessel\n",
      "vessel_type                                        General\n",
      "vessel_subtype                                     General\n",
      "flag_desc                                    UNITED STATES\n",
      "vessel_activity_role_desc    Involved in a Marine Casualty\n",
      "waterway_name                   GULF INTRACOASTAL WATERWAY\n",
      "event_type                      Material Failure (Vessels)\n",
      "event_class                                            NaN\n",
      "event_subclass                                         NaN\n",
      "damage_status                                      Damaged\n",
      "latitude                                         29.283333\n",
      "longitude                                       -95.166667\n"
     ]
    }
   ],
   "source": [
    "print(df.iloc[0].to_string())"
   ]
  },
  {
   "cell_type": "code",
   "execution_count": null,
   "metadata": {},
   "outputs": [],
   "source": []
  }
 ],
 "metadata": {
  "kernelspec": {
   "display_name": "FLC",
   "language": "python",
   "name": "python3"
  },
  "language_info": {
   "codemirror_mode": {
    "name": "ipython",
    "version": 3
   },
   "file_extension": ".py",
   "mimetype": "text/x-python",
   "name": "python",
   "nbconvert_exporter": "python",
   "pygments_lexer": "ipython3",
   "version": "3.10.11"
  }
 },
 "nbformat": 4,
 "nbformat_minor": 2
}
